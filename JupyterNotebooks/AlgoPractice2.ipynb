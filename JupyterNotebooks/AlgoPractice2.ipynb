{
 "cells": [
  {
   "cell_type": "code",
   "execution_count": 1,
   "id": "b1306bbb",
   "metadata": {},
   "outputs": [
    {
     "name": "stdout",
     "output_type": "stream",
     "text": [
      "Try brokerClient IBinsync port=7496\n",
      "port=7496 is correct and set port to userConfig.brokerClientConfig.IB_CLIENT\n",
      "Connected to IB is successful using port=7496\n",
      "##    ACCOUNT Balance  DU2628075  ##\n",
      "CASH=515843.85\n",
      "portfolio_value=314785.84\n",
      "positions_value=201213.77\n",
      "##    POSITIONS DU2628075   ##\n",
      "Symbol Amount Cost_basis\n",
      "STK,,,SPY,USD -527 381.37905085\n",
      "##    NO any order    ##\n"
     ]
    }
   ],
   "source": [
    "import csv\n",
    "import matplotlib.pyplot as plt\n",
    "import numpy as np\n",
    "import os\n",
    "import pandas as pd\n",
    "import sys\n",
    "import time\n",
    "\n",
    "os.chdir(r'C:\\Users\\Lane Capital\\OneDrive\\Desktop\\repos\\IBridgePy_Win_Anaconda38_64 - Copy')\n",
    "sys.path.append(os.path.join(os.getcwd(), '..'))\n",
    "\n",
    "from trader_factory import build_active_IBridgePy_plus\n",
    "from IBridgePy.IbridgepyTools import symbol\n",
    "from Strategies import Utils\n",
    "# from MyFunctions.EMA import EMA, EMA_1, MACD\n",
    "\n",
    "sim = build_active_IBridgePy_plus('DU2628075') # Build an active trader to get connected to Interactive Brokers "
   ]
  },
  {
   "cell_type": "code",
   "execution_count": null,
   "id": "bbfe4c29",
   "metadata": {},
   "outputs": [],
   "source": [
    "# functions\n",
    "\n",
    "# get price -done\n",
    "# - calc trailing stop - done\n",
    "# update trailing stop\n",
    "\n",
    "# confirm/update these\n",
    "# - exit long \n",
    "# - exit short\n",
    "\n",
    "\n",
    "\n",
    "# Do these second\n",
    "# calculate exit price - long\n",
    "# calculate exit price - Short\n",
    "\n",
    "# Do these third \n",
    "\n",
    "# order short\n",
    "# order long\n",
    "# sell order short\n",
    "# sell order long\n",
    "\n",
    "\n",
    "# Later on\n",
    "# - double enter\n",
    "# - double exit\n",
    "# double order short/long\n",
    "# double order sell short/long\n",
    "# - csv reader\n",
    "# - csv writer"
   ]
  },
  {
   "cell_type": "code",
   "execution_count": null,
   "id": "f3b60368",
   "metadata": {},
   "outputs": [],
   "source": [
    "def calcTrailingStop(context, price, mag: float = 5, percentBool: bool=True, shortBool: bool=False):\n",
    "    \"\"\" This function takes inputs of:\n",
    "    - Context structure\n",
    "    - Price (USD)\n",
    "    - Magnitude (USD or %), If percentage is used, use the magnitude of the percentage (i.e. 5, not 0.05 for 5%)\n",
    "    - boolean flag which determines whether to use percentage or absolute value\n",
    "    - Boolean flag for long or short sale\n",
    "     and calculates a trailing stop price. \"\"\"\n",
    "\n",
    "    if shortBool: # We are holding short\n",
    "        if percentBool: # Calculate trailing stop using percentage\n",
    "            tsPriceNew=price.mid*(1+mag/100)\n",
    "        else: # Calculate trailing stop using absolute value in USD\n",
    "            tsPriceNew=price.mid+mag\n",
    "    else: # We are holding long\n",
    "        if percentBool: # Calculate trailing stop using percentage\n",
    "            tsPriceNew=price.mid*(1-mag/100)\n",
    "        else: # Calculate trailing stop using absolute value in USD\n",
    "            tsPriceNew=price.mid-mag\n",
    "            # TODO put context.tsPrice\n",
    "    return tsPriceNew\n",
    "\n",
    "def updateTrailingStop(context, price, mag: float = 5, tsPrice: float= np.NAN, percentBool: bool=True, shortBool: bool=False, newTsBool: bool=False):\n",
    "    \"\"\" This function takes inputs of:\n",
    "    - Context structure\n",
    "    - Price (USD)\n",
    "    - Magnitude (USD or %), If percentage is used, use the magnitude of the percentage (i.e. 5, not 0.05 for 5%)\n",
    "    - Previous trailing stop price (if it exists), else leave empty\n",
    "    - boolean flag which determines whether to use percentage or absolute value\n",
    "    - Boolean flag for long or short sale\n",
    "    - Boolean for whether or not this is the first time we are calculating the trailing stop price\n",
    "     and determines whether or not to update the trailing price. \n",
    "     \n",
    "     Conditions for updating trailing stop price:\n",
    "     \n",
    "     - We hold a short position and the price falls below  the previous trailing stop price\n",
    "     - we hold a long position and the price rise above the previous trailing stop price\n",
    "     \n",
    "     # TODO confirm this is correct, we may have to adjust when the price goes above a previous peak, though\n",
    "     this can be an easier way to calculate so we dont have to store previous maximum data\n",
    "\n",
    "     \"\"\"    \n",
    "    \n",
    "    if newTsBool:\n",
    "        tsPriceNew=calcTrailingStop(context, price, mag=mag, percentBool=percentBool, shortBool=shortBool)\n",
    "    elif shortBool and percentBool:\n",
    "        if ts_price < price.mid*(1+mag/100):\n",
    "            tsPriceNew=calcTrailingStop(context, price, mag=mag, percentBool=percentBool, shortBool=shortBool)\n",
    "    elif shortBool and not percentBool:\n",
    "        if ts_price < price.mid+mag:\n",
    "            tsPriceNew=calcTrailingStop(context, price, mag=mag, percentBool=percentBool, shortBool=shortBool)\n",
    "    elif not shortBool and percentBool:\n",
    "        if ts_price > price.mid*(1+mag/100):\n",
    "            tsPriceNew=calcTrailingStop(context, price, mag=mag, percentBool=percentBool, shortBool=shortBool)\n",
    "    elif not shortBool and not percentBool:\n",
    "        if ts_price > price.mid+mag:\n",
    "            tsPriceNew=calcTrailingStop(context, price, mag=mag, percentBool=percentBool, shortBool=shortBool)\n",
    "    else:\n",
    "        tsPriceNew=tsPrice\n",
    "        \n",
    "    return tsPriceNew"
   ]
  },
  {
   "cell_type": "code",
   "execution_count": null,
   "id": "c1294903",
   "metadata": {},
   "outputs": [],
   "source": [
    "def getPrice(context):\n",
    "    \"\"\" This function takes in a context structure and outputs a data frame with colmns \n",
    "    of last price, ask price, bid price, and mid price. Note when moving this function to the actual algo,\n",
    "    update security to context.security and get rid of sim.show...\"\"\"\n",
    "    \n",
    "    # get all relevant prices\n",
    "    priceAsk=sim.show_real_time_price(security,'ask_price')\n",
    "    priceBid=sim.show_real_time_price(security,'bid_price')\n",
    "    priceLast=sim.show_real_time_price(security,'last_price')\n",
    "    priceMid=round((priceAsk + priceBid) / 2, 2) # calculate midpoint price\n",
    "    \n",
    "    # convert prices to a dataframe\n",
    "    price=pd.DataFrame([np.array([priceLast, priceAsk, priceBid, priceMid])],\n",
    "                       columns=['last', \"ask\", \"bid\", \"mid\"])\n",
    "    return price"
   ]
  },
  {
   "cell_type": "code",
   "execution_count": null,
   "id": "57c7e29a",
   "metadata": {},
   "outputs": [],
   "source": [
    "sim.request_historical_data(symbol('SPY'), '1 min', '86400 S')\n"
   ]
  },
  {
   "cell_type": "code",
   "execution_count": null,
   "id": "48b888c6",
   "metadata": {},
   "outputs": [],
   "source": [
    "security = symbol('SPY')\n",
    "context=initializeJupyter()\n",
    "price=getPrice(context)\n",
    "tsPrice=calcTrailingStop(context, price, 5, percentBool=True, shortBool=True)\n",
    "\n",
    "print(price.mid.values[0],tsPrice)"
   ]
  },
  {
   "cell_type": "code",
   "execution_count": null,
   "id": "6d5d8737",
   "metadata": {},
   "outputs": [],
   "source": [
    "# def testTrailingStopCalcs():"
   ]
  },
  {
   "cell_type": "code",
   "execution_count": null,
   "id": "18021b02",
   "metadata": {},
   "outputs": [],
   "source": [
    "# algo Notes\n",
    "\n",
    "# calculate your ema's\n",
    "# check if you should enter\n",
    "#     if you own:\n",
    "#         calculate your trailing stop\n",
    "# check if you should exit\n",
    "#     if exit flag:\n",
    "#         place order for sale or purchase\n",
    "\n",
    "\n"
   ]
  },
  {
   "cell_type": "code",
   "execution_count": null,
   "id": "a096d208",
   "metadata": {},
   "outputs": [],
   "source": [
    "placing orders:\n",
    "\n",
    "# 1. actually place the order:\n",
    "    context.exit_order = order(context.security, exit_shares, LimitOrder(price_mid),\n",
    "                                               accountCode='default')\n",
    "# 2. check if order is filled:\n",
    "#     2.a if the order is filled: reset everything:\n",
    "        if get_order_status(context.exit_order) in [OrderStatus.FILLED]:\n",
    "            context.exit_order = None\n",
    "            flag_reset(context)\n",
    "#     2.b if its not placed: modify order after N seconds:\n",
    "            elif get_order_status(context.exit_order) not in [OrderStatus.FILLED]:\n",
    "                i = int((sTime - context.exit_time).total_seconds())\n",
    "                if i == 5:\n",
    "                    print(get_order_status(context.exit_order))\n",
    "                    modify_order(context.exit_order, newLimitPrice=price_mid)\n",
    "                    context.exit_time = sTime"
   ]
  },
  {
   "cell_type": "code",
   "execution_count": null,
   "id": "157b8108",
   "metadata": {},
   "outputs": [],
   "source": [
    "def generateOrders(context,price):\n",
    "    \"\"\" This function places the orders. Details to follow\"\"\"\n",
    "    if context.exit_order is None: # Order has not been placed yet\n",
    "        exitShares = -context.shares # number of shares to order\n",
    "        context.exit_order = order(context.security, exit_shares, LimitOrder(price.mid), accountCode='default')\n",
    "        context.exit_time = sTime # Save order time for future reference\n",
    "    else: # Order has been placed\n",
    "        if checkFillstatus(context): # Order has been filled\n",
    "            context.exit_order = None # reset flags\n",
    "            flag_reset(context)\n",
    "        else: # Order has not been filled\n",
    "            modifyOrder(context, price,sTime) # modify order to determine whether or not to lower the price"
   ]
  },
  {
   "cell_type": "code",
   "execution_count": null,
   "id": "a114b0d2",
   "metadata": {},
   "outputs": [],
   "source": [
    "future work: \n",
    "    smart pricing if mid price doesnt take\n",
    "    smart order numbers"
   ]
  },
  {
   "cell_type": "code",
   "execution_count": null,
   "id": "7e3c7814",
   "metadata": {},
   "outputs": [],
   "source": [
    "def checkFillstatus(context):\n",
    "    \"\"\"This function checks the order status and returns a True if its filled,\n",
    "    otherwise it returns a False\"\"\"\n",
    "    return get_order_status(context.exit_order) in [OrderStatus.FILLED]"
   ]
  },
  {
   "cell_type": "code",
   "execution_count": null,
   "id": "73c2131f",
   "metadata": {},
   "outputs": [],
   "source": [
    "def modifyOrder(context, price, sTime, N: int = 5):\n",
    "    i = int((sTime - context.exit_time).total_seconds())\n",
    "    if i>=N:\n",
    "        newPrice=calculateLowerPrice(price, i)\n",
    "        modify_order(context.exit_order, newLimitPrice=newPrice)\n",
    "        context.exit_time = sTime"
   ]
  },
  {
   "cell_type": "code",
   "execution_count": null,
   "id": "309711b6",
   "metadata": {},
   "outputs": [],
   "source": [
    "def calculateLowerPrice(price, i):\n",
    "    \"\"\"This function takes in a price, an order, and number of time steps the \n",
    "    order has been tried to be filled and outputs a new price. A multipler is used as\n",
    "    a function of a lookup table to calculate the new price.\"\"\"\n",
    "    \n",
    "    # TODO find optimal lookup table\n",
    "    \n",
    "    multiplier = np.array([[0,5, 7, 9, 11, 50],\n",
    "                      [0.5,0.5, 0.49, 0.48, 0.47, 0.47]]) # add a multiplier to manipulate price later\n",
    "    mult = np.interp(i,multiplier[0],multiplier[1]) # interpolate i over multiplier\n",
    "    newPrice = priceMid=(price.ask + price.bid)*mult # calculate new price based on lookup table of i\n",
    "    \n",
    "    return newPrice"
   ]
  },
  {
   "cell_type": "code",
   "execution_count": null,
   "id": "eb241f13",
   "metadata": {},
   "outputs": [],
   "source": [
    "multiplier = np.zeros((2,25))\n",
    "multiplier[0,:-1] = np.arange(6,6+2*(multiplier.shape[1]-1),2)\n",
    "multiplier[0,-1] = 1000\n",
    "multiplier[1,:] = np.ones((1,multiplier.shape[1]))*0.5"
   ]
  },
  {
   "cell_type": "code",
   "execution_count": null,
   "id": "e8a1f3d3",
   "metadata": {},
   "outputs": [],
   "source": [
    "multiplier = np.array([[0,5, 7, 9, 11, 50],\n",
    "                      [0.5, 0.5, 0.49, 0.48, 0.47, 0.47]]) # add a multiplier to manipulate price later\n",
    "\n",
    "mult = np.interp(6,multiplier[0],multiplier[1])"
   ]
  },
  {
   "cell_type": "code",
   "execution_count": null,
   "id": "d19dbb1f",
   "metadata": {},
   "outputs": [],
   "source": [
    "price = pd.DataFrame([np.array((100,102.3,99.3,(102.3+99.3)/2))],columns=['last', \"ask\", \"bid\", \"mid\"])\n",
    "for i in range(13):\n",
    "    print(calculateLowerPrice(price,i)[0])"
   ]
  },
  {
   "cell_type": "code",
   "execution_count": null,
   "id": "987d0b7d",
   "metadata": {},
   "outputs": [],
   "source": []
  },
  {
   "cell_type": "code",
   "execution_count": null,
   "id": "eaa4b529",
   "metadata": {},
   "outputs": [],
   "source": [
    "31300/60/60"
   ]
  },
  {
   "cell_type": "code",
   "execution_count": null,
   "id": "a81d380d",
   "metadata": {},
   "outputs": [],
   "source": [
    "sim."
   ]
  },
  {
   "cell_type": "code",
   "execution_count": null,
   "id": "57cbf40b",
   "metadata": {},
   "outputs": [],
   "source": []
  },
  {
   "cell_type": "code",
   "execution_count": null,
   "id": "fd307ab4",
   "metadata": {},
   "outputs": [],
   "source": []
  },
  {
   "cell_type": "code",
   "execution_count": 2,
   "id": "c063972e",
   "metadata": {},
   "outputs": [
    {
     "data": {
      "text/plain": [
       "3.45"
      ]
     },
     "execution_count": 2,
     "metadata": {},
     "output_type": "execute_result"
    }
   ],
   "source": [
    "np.round(3.45333,2)"
   ]
  },
  {
   "cell_type": "code",
   "execution_count": null,
   "id": "180228c9",
   "metadata": {},
   "outputs": [],
   "source": []
  },
  {
   "cell_type": "code",
   "execution_count": null,
   "id": "9d5a35c6",
   "metadata": {},
   "outputs": [],
   "source": []
  },
  {
   "cell_type": "code",
   "execution_count": null,
   "id": "3d761582",
   "metadata": {},
   "outputs": [],
   "source": []
  },
  {
   "cell_type": "code",
   "execution_count": null,
   "id": "113590b5",
   "metadata": {},
   "outputs": [],
   "source": []
  },
  {
   "cell_type": "code",
   "execution_count": null,
   "id": "06dd7b77",
   "metadata": {},
   "outputs": [],
   "source": []
  },
  {
   "cell_type": "code",
   "execution_count": null,
   "id": "a51d8448",
   "metadata": {},
   "outputs": [],
   "source": []
  },
  {
   "cell_type": "code",
   "execution_count": null,
   "id": "08dacf78",
   "metadata": {},
   "outputs": [],
   "source": [
    "def initializeJupyter():\n",
    "    initialData = [False, symbol('SPY'), False, False, False, \n",
    "        sim.request_historical_data(symbol('SPY'), '1 min', '16000 S'),\n",
    "        sim.request_historical_data(symbol('SPY'), '5 mins', '31300 S'),\n",
    "        [], None, False, None, None, None, None, 0.1, 0.2, False, False,\n",
    "        False, False, None, None, None, None, None, None,\n",
    "        sim.show_real_time_price(symbol('SPY'), 'last_price'),\n",
    "        sim.show_real_time_price(symbol('SPY'), 'last_price'),100000.00]\n",
    "\n",
    "\n",
    "    cols=[\"run_once\", \n",
    "        \"security\", \n",
    "        \"entry_flag\", \n",
    "        \"long_flag\", \n",
    "        \"short_flag\", \n",
    "        \"hist_1min\",\n",
    "        \"hist_5min\",\n",
    "        \"macd_list\", \n",
    "        \"entry_price\", \n",
    "        \"enter_flag\", \n",
    "        \"stop_price\", \n",
    "        \"new_stop_price\",\n",
    "        \"ts_price_1\",\n",
    "        \"ts_price_2\",\n",
    "        \"trail_1\", \n",
    "        \"trail_2\", \n",
    "        \"new_ts_flag\",\n",
    "        \"double_flag\",\n",
    "        \"exit_flag\",\n",
    "        \"TG_flag\",\n",
    "        \"shares\",\n",
    "        \"order\",\n",
    "        \"double_order\",\n",
    "        \"exit_order\",\n",
    "        \"entry_time\",\n",
    "        \"exit_time\",\n",
    "        \"price_1\", \n",
    "        \"price_n\", \n",
    "        \"value\", ]\n",
    "\n",
    "    context=pd.DataFrame([np.array(initialData)],columns=cols)\n",
    "    \n",
    "    return context"
   ]
  },
  {
   "cell_type": "code",
   "execution_count": null,
   "id": "c4d2d1bc",
   "metadata": {},
   "outputs": [],
   "source": []
  },
  {
   "cell_type": "code",
   "execution_count": null,
   "id": "ca5561d5",
   "metadata": {},
   "outputs": [],
   "source": []
  },
  {
   "cell_type": "code",
   "execution_count": null,
   "id": "78333d08",
   "metadata": {},
   "outputs": [],
   "source": []
  }
 ],
 "metadata": {
  "kernelspec": {
   "display_name": "Python 3",
   "language": "python",
   "name": "python3"
  },
  "language_info": {
   "codemirror_mode": {
    "name": "ipython",
    "version": 3
   },
   "file_extension": ".py",
   "mimetype": "text/x-python",
   "name": "python",
   "nbconvert_exporter": "python",
   "pygments_lexer": "ipython3",
   "version": "3.8.8"
  }
 },
 "nbformat": 4,
 "nbformat_minor": 5
}
