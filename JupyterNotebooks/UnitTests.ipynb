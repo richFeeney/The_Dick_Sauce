{
 "cells": [
  {
   "cell_type": "code",
   "execution_count": 1,
   "id": "54a8a496",
   "metadata": {},
   "outputs": [
    {
     "name": "stdout",
     "output_type": "stream",
     "text": [
      "Try brokerClient IBinsync port=7496\n",
      "port=7496 is correct and set port to userConfig.brokerClientConfig.IB_CLIENT\n",
      "Connected to IB is successful using port=7496\n",
      "##    ACCOUNT Balance  DU2628075  ##\n",
      "CASH=515483.32\n",
      "portfolio_value=318114.25\n",
      "positions_value=197524.84\n",
      "##    POSITIONS DU2628075   ##\n",
      "Symbol Amount Cost_basis\n",
      "STK,,,SPY,USD -527 379.40663525\n",
      "##    NO any order    ##\n"
     ]
    }
   ],
   "source": [
    "### Imports\\\n",
    "import csv\n",
    "import datetime\n",
    "import matplotlib.pyplot as plt\n",
    "import numpy as np\n",
    "import os\n",
    "import pandas as pd\n",
    "import pdb\n",
    "import pytz\n",
    "import sys\n",
    "import time\n",
    "\n",
    "sys.path.append(r'D:\\algo2\\IBridgePy_Win_Anaconda38_64 - Copy')\n",
    "from IBridgePy.Trader import Trader\n",
    "from trader_factory import build_active_IBridgePy_plus\n",
    "from IBridgePy.IbridgepyTools import symbol\n",
    "from IBridgePy.constants import OrderStatus\n",
    "from IBridgePy.OrderTypes import LimitOrder\n",
    "from Utils import Algos\n",
    "from Utils import EnterExits\n",
    "from Utils import IndicatorCalculations\n",
    "from Utils import Orders\n",
    "from Utils import Plotters\n",
    "from Utils import Utils\n",
    "from UnitTests  import testutils\n",
    "\n",
    "\n",
    "sim = build_active_IBridgePy_plus('DU2628075') # Build an active trader to get connected to Interactive Brokers "
   ]
  },
  {
   "cell_type": "code",
   "execution_count": null,
   "id": "136f1bc8",
   "metadata": {},
   "outputs": [],
   "source": [
    "sim = build_active_IBridgePy_plus('DU2628075') # Build an active trader to get connected to Interactive Brokers "
   ]
  },
  {
   "cell_type": "code",
   "execution_count": null,
   "id": "4e9b8ffa",
   "metadata": {},
   "outputs": [],
   "source": [
    "# tests needed\n",
    "\n",
    "# modifyPrice\n",
    "# modifyOrder\n",
    "# doLogging\n",
    "# generateSellOrder\n",
    "# generateBuyOrder"
   ]
  },
  {
   "cell_type": "code",
   "execution_count": 2,
   "id": "2db8fbcc",
   "metadata": {},
   "outputs": [],
   "source": [
    "def test_modifyPrice():\n",
    "    # Initialize Variables\n",
    "    var = [0,2,6,10,15,52,1000]\n",
    "    output = np.zeros(7)\n",
    "    multiplier = np.array([[0,5, 7, 9, 11, 50],\n",
    "                       [0.01, 0.015, 0.02, 0.03, 0.04, 0.05]])\n",
    "    \n",
    "    # Correct outputs\n",
    "    goodVars_noMult = [150, 150, 150, 150, 150, 150, 150] #correct output with no mult\n",
    "    goodVars_short = np.array([151.5, 151.8, 152.625, 155.25, 156.15384615384616, 157.5, 157.5]) #correct output with multiplier and short\n",
    "    goodVars_long = np.array([148.5, 148.2, 147.375, 144.75, 143.84615384615384, 142.5, 142.5]) #correct output with multiplier and long\n",
    "\n",
    "    # get context input data and price\n",
    "    context = testutils.context(sim)\n",
    "    testPrice = testutils.Price(100,200,300)\n",
    "    \n",
    "    # loop through i with multiplier none\n",
    "    for i,x in enumerate(var):\n",
    "        output[i] = Utils.modifyPrice(context,testPrice,x)\n",
    "    assert (output == goodVars_noMult).all(), \"Price is not modified correctly\"\n",
    "    \n",
    "    # loop through i with updated multiplier shortbool on \n",
    "    for i,x in enumerate(var):\n",
    "        output[i] = Utils.modifyPrice(context,testPrice,x, multiplier)\n",
    "    assert (output == goodVars_long).all(), \"Price is not modified correctly\"\n",
    "    \n",
    "    # loop through i with updated multiplier shortbool on \n",
    "    context.shortBool = True\n",
    "    for i,x in enumerate(var):\n",
    "        output[i] = Utils.modifyPrice(context,testPrice,x, multiplier)\n",
    "    assert (output == goodVars_short).all(), \"Price is not modified correctly\"\n",
    "    \n",
    "test_modifyPrice()"
   ]
  },
  {
   "cell_type": "code",
   "execution_count": null,
   "id": "ca09a181",
   "metadata": {},
   "outputs": [],
   "source": [
    "# Initialize Variables\n",
    "var = [0,2,6,10,15,52,1000]\n",
    "output = np.zeros(7)\n",
    "multiplier = np.array([[0,5, 7, 9, 11, 50],\n",
    "                   [0.01, 0.015, 0.02, 0.03, 0.04, 0.05]])\n",
    "\n",
    "# Correct outputs\n",
    "goodVars_noMult = np.array([150, 150, 150, 150, 150, 150, 150] )#correct output with no mult\n",
    "goodVars_short = np.array([151.5, 151.8, 152.625, 155.25, 156.15384615384616, 157.5, 157.5]) #correct output with multiplier and short\n",
    "goodVars_long = np.array([148.5, 148.2, 147.375, 144.75, 143.84615384615384, 142.5, 142.5]) #correct output with multiplier and long\n",
    "\n",
    "# get context input data and price\n",
    "context = testutils.context(sim)\n",
    "testPrice = testutils.Price(100,200,300)\n",
    "\n"
   ]
  },
  {
   "cell_type": "code",
   "execution_count": null,
   "id": "ca20ed68",
   "metadata": {},
   "outputs": [],
   "source": [
    "context.shortBool = True\n",
    "for i,x in enumerate(var):\n",
    "    output[i] = modifyPrice(context,testPrice,x, multiplier)\n",
    "assert (output == goodVars_short).all(), \"Price is not modified correctly\"\n",
    "\n",
    "# print(output)"
   ]
  },
  {
   "cell_type": "code",
   "execution_count": null,
   "id": "949cd66b",
   "metadata": {},
   "outputs": [],
   "source": [
    "    for i,x in enumerate(var):\n",
    "        output[i] = modifyPrice(context,testPrice,x)\n",
    "    assert (output == goodVars_noMult).all(), \"Price is not modified correctly\""
   ]
  },
  {
   "cell_type": "code",
   "execution_count": null,
   "id": "c73b9d12",
   "metadata": {},
   "outputs": [],
   "source": [
    "\n",
    "context.shortBool"
   ]
  },
  {
   "cell_type": "code",
   "execution_count": null,
   "id": "292865b2",
   "metadata": {},
   "outputs": [],
   "source": [
    "Utils.modifyPrice"
   ]
  },
  {
   "cell_type": "code",
   "execution_count": null,
   "id": "d3bf45e2",
   "metadata": {},
   "outputs": [],
   "source": [
    "(output == goodVars_noMult).all()"
   ]
  },
  {
   "cell_type": "code",
   "execution_count": null,
   "id": "405823a4",
   "metadata": {},
   "outputs": [],
   "source": [
    "output == goodVars_short"
   ]
  },
  {
   "cell_type": "code",
   "execution_count": null,
   "id": "c3f2c21d",
   "metadata": {},
   "outputs": [],
   "source": [
    "output"
   ]
  },
  {
   "cell_type": "code",
   "execution_count": null,
   "id": "5aca4997",
   "metadata": {},
   "outputs": [],
   "source": [
    "147/150"
   ]
  },
  {
   "cell_type": "code",
   "execution_count": null,
   "id": "9db81af7",
   "metadata": {},
   "outputs": [],
   "source": [
    "for i,x in enumerate(var):\n",
    "    mult = np.interp(x,multiplier[0],multiplier[1])\n",
    "    print(150*(1+mult))"
   ]
  },
  {
   "cell_type": "code",
   "execution_count": null,
   "id": "6f9d7341",
   "metadata": {},
   "outputs": [],
   "source": [
    "context.shortBool"
   ]
  },
  {
   "cell_type": "code",
   "execution_count": null,
   "id": "a20f648c",
   "metadata": {},
   "outputs": [],
   "source": [
    "def modifyPrice(context,price, i, multiplier:np.array = np.array([[0,5, 7, 9, 11, 50],\n",
    "                                                                  [0,0, 0.0, 0.0, 0.0, 0.0]])):\n",
    "    \"\"\"This function takes in a price, an order, and number of time steps the \n",
    "    order has been tried to be filled and outputs a new price. A multipler is used as\n",
    "    a function of a lookup table to calculate the new price.\"\"\"\n",
    "    \n",
    "    # TODO find optimal lookup table\n",
    "\n",
    "    if context.shortBool: # if we are modifying a short sale, increase the price, decrease for long\n",
    "        mult = 0.5 + np.interp(i,multiplier[0],multiplier[1])/2 # interpolate i over multiplier\n",
    "    else:\n",
    "        mult = 0.5 - np.interp(i,multiplier[0],multiplier[1])/2\n",
    "        \n",
    "    newPrice = (price.ask + price.bid)*mult # calculate new price based on lookup table of i\n",
    "    \n",
    "    return newPrice"
   ]
  },
  {
   "cell_type": "code",
   "execution_count": null,
   "id": "da4b4932",
   "metadata": {},
   "outputs": [],
   "source": [
    "multiplier= np.array([[0,5, 7, 9, 11, 50], [0,0, 0.0, 0.0, 0.0, 0.0]])"
   ]
  },
  {
   "cell_type": "code",
   "execution_count": null,
   "id": "c2c3c42e",
   "metadata": {},
   "outputs": [],
   "source": [
    "multiplier[1]"
   ]
  },
  {
   "cell_type": "code",
   "execution_count": null,
   "id": "a4a79b76",
   "metadata": {},
   "outputs": [],
   "source": [
    "150*0.98"
   ]
  },
  {
   "cell_type": "code",
   "execution_count": null,
   "id": "174b7d89",
   "metadata": {},
   "outputs": [],
   "source": []
  }
 ],
 "metadata": {
  "kernelspec": {
   "display_name": "Python 3",
   "language": "python",
   "name": "python3"
  },
  "language_info": {
   "codemirror_mode": {
    "name": "ipython",
    "version": 3
   },
   "file_extension": ".py",
   "mimetype": "text/x-python",
   "name": "python",
   "nbconvert_exporter": "python",
   "pygments_lexer": "ipython3",
   "version": "3.8.8"
  }
 },
 "nbformat": 4,
 "nbformat_minor": 5
}
