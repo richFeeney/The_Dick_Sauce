{
 "cells": [
  {
   "cell_type": "code",
   "execution_count": null,
   "id": "f8103db7",
   "metadata": {},
   "outputs": [],
   "source": [
    "### Imports from algo_common\n",
    "\n",
    "import csv\n",
    "import collections\n",
    "import datetime\n",
    "from dateutil import tz\n",
    "import matplotlib.dates as mdates\n",
    "import matplotlib.pyplot as plt\n",
    "from matplotlib.ticker import MultipleLocator, FormatStrFormatter, AutoMinorLocator\n",
    "import numpy as np\n",
    "import os\n",
    "import pandas as pd\n",
    "import pytz\n",
    "import sys\n",
    "import time\n",
    "\n",
    "os.chdir(r'D:\\algo2\\IBridgePy_Win_Anaconda38_64 - Copy')\n",
    "sys.path.append(os.path.join(os.getcwd(), '..'))\n",
    "\n",
    "from trader_factory import build_active_IBridgePy_plus\n",
    "from IBridgePy.IbridgepyTools import symbol\n",
    "\n",
    "from Utils import Algos\n",
    "from Utils import EnterExits\n",
    "from Utils import IndicatorCalculations\n",
    "from Utils import Orders\n",
    "from Utils import Plotters\n",
    "from Utils import Utils\n",
    "from UnitTests import testutils\n"
   ]
  },
  {
   "cell_type": "code",
   "execution_count": null,
   "id": "09c27eb6",
   "metadata": {},
   "outputs": [],
   "source": [
    "sim = build_active_IBridgePy_plus('DU2628075') # Build an active trader to get connected to Interactive Brokers "
   ]
  },
  {
   "cell_type": "code",
   "execution_count": null,
   "id": "25827568",
   "metadata": {},
   "outputs": [],
   "source": [
    "context = Utils.initializeJupyter(sim)"
   ]
  },
  {
   "cell_type": "code",
   "execution_count": null,
   "id": "f9689fef",
   "metadata": {},
   "outputs": [],
   "source": [
    "# load ema data\n",
    "logName = r\"D:\\algo2\\IBridgePy_Win_Anaconda38_64 - Copy\\Log\\Daily_Log_2022-11-17.csv\"\n",
    "logColumns = [\"time\", \"fast\", \"fast1\", \"slow\", \"tLine\", \"macd\", \"signalLine\", \"longBool\", \"shortBool\", \"longFlag\", \"shortFlag\", \n",
    "    \"enterFlag\", \"entryFlag\", \"exitFlag\", \"askPrice\", \"bidPrice\", \"lastPrice\", \"midPrice\", \"portfolioValue\", \"positionValue\", \"cash\"]\n",
    "logData = pd.read_csv(logName, header=1, names=logColumns)\n",
    "logData = Utils.cleanLogData(logData)\n",
    "\n",
    "logData['date'] = np.array([datetime.datetime.fromtimestamp(float(f)) for f in logData.time.values])\n"
   ]
  },
  {
   "cell_type": "code",
   "execution_count": null,
   "id": "31416784",
   "metadata": {},
   "outputs": [],
   "source": [
    "logData1 = logData[logData.enterFlag==True]\n",
    "logData2 = logData1[logData1.entryFlag==True]"
   ]
  },
  {
   "cell_type": "code",
   "execution_count": null,
   "id": "db7792d2",
   "metadata": {},
   "outputs": [],
   "source": [
    "plt.plot(np.arange(0,len(logData.entryFlag.values)),logData.entryFlag)\n",
    "plt.xlim((24000,26000))"
   ]
  },
  {
   "cell_type": "code",
   "execution_count": null,
   "id": "6bf90542",
   "metadata": {},
   "outputs": [],
   "source": [
    "# implement counter\n",
    "\n",
    "# trigger to increase counter\n",
    "# store entry flag data for last N minutes (start with 15 for now)\n",
    "# check if entry flag flipped M times in last N minutes (start with 3 for now)\n",
    "# if so, hold position unless X happens (talk with Mike about it)"
   ]
  },
  {
   "cell_type": "code",
   "execution_count": null,
   "id": "ae6f3492",
   "metadata": {},
   "outputs": [],
   "source": []
  },
  {
   "cell_type": "code",
   "execution_count": null,
   "id": "0258e838",
   "metadata": {},
   "outputs": [],
   "source": [
    "def appendCounter(context, N: int = 15):\n",
    "    \"\"\" This function takes in a counter vector and throws out the left side and appends the right side if the vector is \n",
    "    greater than size N\"\"\"\n",
    "    context.counter.append(context.entry_flag)\n",
    "    if len(context.counter)>=N:\n",
    "        context.counter.popleft()\n",
    "    \n",
    "def countFlips(context):\n",
    "    \"\"\" This function takes in an input vector and counts the number of times the vector has flipped from true to false\"\"\"\n",
    "    return np.count_nonzero(np.array([context.counter[i]!=context.counter[i+1] for i in range(len(context.counter)-1)]))\n",
    "    "
   ]
  },
  {
   "cell_type": "code",
   "execution_count": null,
   "id": "80aa9990",
   "metadata": {},
   "outputs": [],
   "source": [
    "flagCheck = collections.deque()\n",
    "flagCheck.append(True)\n",
    "flagCheck.append(True)\n",
    "flagCheck.append(True)\n",
    "flagCheck.append(False)\n",
    "flagCheck.append(False)\n",
    "flagCheck.append(True)\n",
    "flagCheck.append(True)\n",
    "flagCheck.append(True)\n",
    "flagCheck.append(True)\n",
    "flagCheck.append(True)\n",
    "flagCheck.append(True)\n",
    "flagCheck.append(False)\n",
    "flagCheck.append(False)\n",
    "flagCheck.append(True)\n",
    "flagCheck.append(True)\n",
    "\n",
    "print(flagCheck)"
   ]
  },
  {
   "cell_type": "code",
   "execution_count": null,
   "id": "a1be2aeb",
   "metadata": {},
   "outputs": [],
   "source": [
    "flagCheck.popleft()\n",
    "flagCheck.append(False)\n",
    "print(len(flagCheck))\n",
    "print(flagCheck)"
   ]
  },
  {
   "cell_type": "code",
   "execution_count": null,
   "id": "233d83dc",
   "metadata": {},
   "outputs": [],
   "source": [
    "counts = np.count_nonzero(np.array([flagCheck[i]!=flagCheck[i+1] for i in range(len(flagCheck)-1)]))\n",
    "print(counts)"
   ]
  },
  {
   "cell_type": "code",
   "execution_count": null,
   "id": "7f9f2ba2",
   "metadata": {},
   "outputs": [],
   "source": [
    "[flagCheck[i]!=flagCheck[i+1] for i in range(len(flagCheck)-1)]"
   ]
  },
  {
   "cell_type": "code",
   "execution_count": null,
   "id": "9d00e1c1",
   "metadata": {},
   "outputs": [],
   "source": [
    "context.entry_flag = False\n",
    "\n",
    "IndicatorCalculations.appendCounter(context)\n",
    "print(context.counter)\n",
    "print(IndicatorCalculations.countFlips(context))\n",
    "print(len(context.counter))"
   ]
  },
  {
   "cell_type": "code",
   "execution_count": null,
   "id": "3c28603f",
   "metadata": {},
   "outputs": [],
   "source": [
    "def test_counterFunctions():\n",
    "    sim = build_active_IBridgePy_plus('DU2628075') # Build an active trader to get connected to Interactive Brokers \n",
    "    context = Utils.initializeJupyter(sim)\n",
    "    choice = [True, False, True, True, True, False, False, True, True, False, False, True, True, False, True, True, False, True]\n",
    "    output = [True, True, False, False, True, True, False, False, True, True, False, True, True, False, True]\n",
    "    N=15\n",
    "\n",
    "    for i in range(len(choice)):\n",
    "        context.entry_flag = choice[i]\n",
    "        IndicatorCalculations.appendCounter(context,N=N)\n",
    "\n",
    "    assert IndicatorCalculations.countFlips(context)==8, \"wrong number of flips counted\"\n",
    "    assert len(context.counter)==N, \"Counter vector is the wrong length\"\n",
    "    assert np.all([context.counter[i]==output[i] for i in range(len(output))]), \"Output Vector does not match\"\n",
    "    \n",
    "test_counterFunctions()"
   ]
  },
  {
   "cell_type": "code",
   "execution_count": null,
   "id": "240f8ce4",
   "metadata": {},
   "outputs": [],
   "source": [
    "context.counter"
   ]
  },
  {
   "cell_type": "code",
   "execution_count": null,
   "id": "fa1bb27c",
   "metadata": {},
   "outputs": [],
   "source": []
  }
 ],
 "metadata": {
  "kernelspec": {
   "display_name": "Python 3",
   "language": "python",
   "name": "python3"
  },
  "language_info": {
   "codemirror_mode": {
    "name": "ipython",
    "version": 3
   },
   "file_extension": ".py",
   "mimetype": "text/x-python",
   "name": "python",
   "nbconvert_exporter": "python",
   "pygments_lexer": "ipython3",
   "version": "3.8.8"
  }
 },
 "nbformat": 4,
 "nbformat_minor": 5
}
